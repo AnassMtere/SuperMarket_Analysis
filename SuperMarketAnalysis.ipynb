{
 "cells": [
  {
   "cell_type": "markdown",
   "metadata": {},
   "source": [
    "# créer des data frame et afficher les premières lignes"
   ]
  },
  {
   "cell_type": "code",
   "execution_count": 50,
   "metadata": {},
   "outputs": [
    {
     "data": {
      "text/html": [
       "<div>\n",
       "<style scoped>\n",
       "    .dataframe tbody tr th:only-of-type {\n",
       "        vertical-align: middle;\n",
       "    }\n",
       "\n",
       "    .dataframe tbody tr th {\n",
       "        vertical-align: top;\n",
       "    }\n",
       "\n",
       "    .dataframe thead th {\n",
       "        text-align: right;\n",
       "    }\n",
       "</style>\n",
       "<table border=\"1\" class=\"dataframe\">\n",
       "  <thead>\n",
       "    <tr style=\"text-align: right;\">\n",
       "      <th></th>\n",
       "      <th>ID_Facture</th>\n",
       "      <th>Succursale</th>\n",
       "      <th>Ville</th>\n",
       "      <th>Type_Client</th>\n",
       "      <th>Genre</th>\n",
       "      <th>Categorie_Produit</th>\n",
       "      <th>Prix_Unitaire</th>\n",
       "      <th>Quantite</th>\n",
       "      <th>Taxe_5%</th>\n",
       "      <th>Total</th>\n",
       "      <th>Date</th>\n",
       "      <th>Heure</th>\n",
       "      <th>Methode_Paiement</th>\n",
       "      <th>CMV</th>\n",
       "      <th>Pourcentage_Marge_Brute</th>\n",
       "      <th>Revenu_Brut</th>\n",
       "      <th>Note_Satisfaction</th>\n",
       "    </tr>\n",
       "  </thead>\n",
       "  <tbody>\n",
       "    <tr>\n",
       "      <th>0</th>\n",
       "      <td>750-67-8428</td>\n",
       "      <td>Alex</td>\n",
       "      <td>NaN</td>\n",
       "      <td>Member</td>\n",
       "      <td>Female</td>\n",
       "      <td>Health and beauty</td>\n",
       "      <td>74.69</td>\n",
       "      <td>NaN</td>\n",
       "      <td>26.1415</td>\n",
       "      <td>548.9715</td>\n",
       "      <td>1/5/2019</td>\n",
       "      <td>1:08:00 PM</td>\n",
       "      <td>Ewallet</td>\n",
       "      <td>522.83</td>\n",
       "      <td>4.761905</td>\n",
       "      <td>26.1415</td>\n",
       "      <td>9.1</td>\n",
       "    </tr>\n",
       "    <tr>\n",
       "      <th>1</th>\n",
       "      <td>226-31-3081</td>\n",
       "      <td>Giza</td>\n",
       "      <td>Naypyitaw</td>\n",
       "      <td>Normal</td>\n",
       "      <td>Female</td>\n",
       "      <td>Electronic accessories</td>\n",
       "      <td>15.28</td>\n",
       "      <td>5.0</td>\n",
       "      <td>3.8200</td>\n",
       "      <td>80.2200</td>\n",
       "      <td>3/8/2019</td>\n",
       "      <td>10:29:00 AM</td>\n",
       "      <td>Cash</td>\n",
       "      <td>76.40</td>\n",
       "      <td>4.761905</td>\n",
       "      <td>3.8200</td>\n",
       "      <td>9.6</td>\n",
       "    </tr>\n",
       "    <tr>\n",
       "      <th>2</th>\n",
       "      <td>631-41-3108</td>\n",
       "      <td>Alex</td>\n",
       "      <td>Yangon</td>\n",
       "      <td>Normal</td>\n",
       "      <td>Female</td>\n",
       "      <td>Home and lifestyle</td>\n",
       "      <td>46.33</td>\n",
       "      <td>7.0</td>\n",
       "      <td>16.2155</td>\n",
       "      <td>340.5255</td>\n",
       "      <td>3/3/2019</td>\n",
       "      <td>1:23:00 PM</td>\n",
       "      <td>Credit card</td>\n",
       "      <td>324.31</td>\n",
       "      <td>4.761905</td>\n",
       "      <td>16.2155</td>\n",
       "      <td>7.4</td>\n",
       "    </tr>\n",
       "    <tr>\n",
       "      <th>3</th>\n",
       "      <td>123-19-1176</td>\n",
       "      <td>Alex</td>\n",
       "      <td>Yangon</td>\n",
       "      <td>Member</td>\n",
       "      <td>Female</td>\n",
       "      <td>Health and beauty</td>\n",
       "      <td>58.22</td>\n",
       "      <td>8.0</td>\n",
       "      <td>23.2880</td>\n",
       "      <td>489.0480</td>\n",
       "      <td>1/27/2019</td>\n",
       "      <td>8:33:00 PM</td>\n",
       "      <td>Ewallet</td>\n",
       "      <td>465.76</td>\n",
       "      <td>4.761905</td>\n",
       "      <td>23.2880</td>\n",
       "      <td>8.4</td>\n",
       "    </tr>\n",
       "    <tr>\n",
       "      <th>4</th>\n",
       "      <td>373-73-7910</td>\n",
       "      <td>Alex</td>\n",
       "      <td>Yangon</td>\n",
       "      <td>Member</td>\n",
       "      <td>Female</td>\n",
       "      <td>Sports and travel</td>\n",
       "      <td>86.31</td>\n",
       "      <td>7.0</td>\n",
       "      <td>30.2085</td>\n",
       "      <td>634.3785</td>\n",
       "      <td>2/8/2019</td>\n",
       "      <td>10:37:00 AM</td>\n",
       "      <td>Ewallet</td>\n",
       "      <td>604.17</td>\n",
       "      <td>4.761905</td>\n",
       "      <td>30.2085</td>\n",
       "      <td>5.3</td>\n",
       "    </tr>\n",
       "  </tbody>\n",
       "</table>\n",
       "</div>"
      ],
      "text/plain": [
       "    ID_Facture Succursale      Ville Type_Client   Genre  \\\n",
       "0  750-67-8428       Alex        NaN      Member  Female   \n",
       "1  226-31-3081       Giza  Naypyitaw      Normal  Female   \n",
       "2  631-41-3108       Alex     Yangon      Normal  Female   \n",
       "3  123-19-1176       Alex     Yangon      Member  Female   \n",
       "4  373-73-7910       Alex     Yangon      Member  Female   \n",
       "\n",
       "        Categorie_Produit  Prix_Unitaire  Quantite  Taxe_5%     Total  \\\n",
       "0       Health and beauty          74.69       NaN  26.1415  548.9715   \n",
       "1  Electronic accessories          15.28       5.0   3.8200   80.2200   \n",
       "2      Home and lifestyle          46.33       7.0  16.2155  340.5255   \n",
       "3       Health and beauty          58.22       8.0  23.2880  489.0480   \n",
       "4       Sports and travel          86.31       7.0  30.2085  634.3785   \n",
       "\n",
       "        Date        Heure Methode_Paiement     CMV  Pourcentage_Marge_Brute  \\\n",
       "0   1/5/2019   1:08:00 PM          Ewallet  522.83                 4.761905   \n",
       "1   3/8/2019  10:29:00 AM             Cash   76.40                 4.761905   \n",
       "2   3/3/2019   1:23:00 PM      Credit card  324.31                 4.761905   \n",
       "3  1/27/2019   8:33:00 PM          Ewallet  465.76                 4.761905   \n",
       "4   2/8/2019  10:37:00 AM          Ewallet  604.17                 4.761905   \n",
       "\n",
       "   Revenu_Brut  Note_Satisfaction  \n",
       "0      26.1415                9.1  \n",
       "1       3.8200                9.6  \n",
       "2      16.2155                7.4  \n",
       "3      23.2880                8.4  \n",
       "4      30.2085                5.3  "
      ]
     },
     "execution_count": 50,
     "metadata": {},
     "output_type": "execute_result"
    }
   ],
   "source": [
    "# créer des data frame\n",
    "import pandas as pd\n",
    "data = pd.read_csv(\"C:/Users/anass/Desktop/Super_Market_Analysis/SuperMarketAnalysis - Copie.csv\")\n",
    "\n",
    "df = pd.DataFrame(data)\n",
    "\n",
    "# afficher les premières lignes\n",
    "df.head()"
   ]
  },
  {
   "cell_type": "markdown",
   "metadata": {},
   "source": [
    "# drop columns ('CMV', 'Pourcentage_Marge_Brute', 'Revenu_Brut')"
   ]
  },
  {
   "cell_type": "code",
   "execution_count": 51,
   "metadata": {},
   "outputs": [
    {
     "data": {
      "text/html": [
       "<div>\n",
       "<style scoped>\n",
       "    .dataframe tbody tr th:only-of-type {\n",
       "        vertical-align: middle;\n",
       "    }\n",
       "\n",
       "    .dataframe tbody tr th {\n",
       "        vertical-align: top;\n",
       "    }\n",
       "\n",
       "    .dataframe thead th {\n",
       "        text-align: right;\n",
       "    }\n",
       "</style>\n",
       "<table border=\"1\" class=\"dataframe\">\n",
       "  <thead>\n",
       "    <tr style=\"text-align: right;\">\n",
       "      <th></th>\n",
       "      <th>ID_Facture</th>\n",
       "      <th>Succursale</th>\n",
       "      <th>Ville</th>\n",
       "      <th>Type_Client</th>\n",
       "      <th>Genre</th>\n",
       "      <th>Categorie_Produit</th>\n",
       "      <th>Prix_Unitaire</th>\n",
       "      <th>Quantite</th>\n",
       "      <th>Taxe_5%</th>\n",
       "      <th>Total</th>\n",
       "      <th>Date</th>\n",
       "      <th>Heure</th>\n",
       "      <th>Methode_Paiement</th>\n",
       "      <th>Note_Satisfaction</th>\n",
       "    </tr>\n",
       "  </thead>\n",
       "  <tbody>\n",
       "    <tr>\n",
       "      <th>0</th>\n",
       "      <td>750-67-8428</td>\n",
       "      <td>Alex</td>\n",
       "      <td>NaN</td>\n",
       "      <td>Member</td>\n",
       "      <td>Female</td>\n",
       "      <td>Health and beauty</td>\n",
       "      <td>74.69</td>\n",
       "      <td>NaN</td>\n",
       "      <td>26.1415</td>\n",
       "      <td>548.9715</td>\n",
       "      <td>1/5/2019</td>\n",
       "      <td>1:08:00 PM</td>\n",
       "      <td>Ewallet</td>\n",
       "      <td>9.1</td>\n",
       "    </tr>\n",
       "    <tr>\n",
       "      <th>1</th>\n",
       "      <td>226-31-3081</td>\n",
       "      <td>Giza</td>\n",
       "      <td>Naypyitaw</td>\n",
       "      <td>Normal</td>\n",
       "      <td>Female</td>\n",
       "      <td>Electronic accessories</td>\n",
       "      <td>15.28</td>\n",
       "      <td>5.0</td>\n",
       "      <td>3.8200</td>\n",
       "      <td>80.2200</td>\n",
       "      <td>3/8/2019</td>\n",
       "      <td>10:29:00 AM</td>\n",
       "      <td>Cash</td>\n",
       "      <td>9.6</td>\n",
       "    </tr>\n",
       "    <tr>\n",
       "      <th>2</th>\n",
       "      <td>631-41-3108</td>\n",
       "      <td>Alex</td>\n",
       "      <td>Yangon</td>\n",
       "      <td>Normal</td>\n",
       "      <td>Female</td>\n",
       "      <td>Home and lifestyle</td>\n",
       "      <td>46.33</td>\n",
       "      <td>7.0</td>\n",
       "      <td>16.2155</td>\n",
       "      <td>340.5255</td>\n",
       "      <td>3/3/2019</td>\n",
       "      <td>1:23:00 PM</td>\n",
       "      <td>Credit card</td>\n",
       "      <td>7.4</td>\n",
       "    </tr>\n",
       "    <tr>\n",
       "      <th>3</th>\n",
       "      <td>123-19-1176</td>\n",
       "      <td>Alex</td>\n",
       "      <td>Yangon</td>\n",
       "      <td>Member</td>\n",
       "      <td>Female</td>\n",
       "      <td>Health and beauty</td>\n",
       "      <td>58.22</td>\n",
       "      <td>8.0</td>\n",
       "      <td>23.2880</td>\n",
       "      <td>489.0480</td>\n",
       "      <td>1/27/2019</td>\n",
       "      <td>8:33:00 PM</td>\n",
       "      <td>Ewallet</td>\n",
       "      <td>8.4</td>\n",
       "    </tr>\n",
       "    <tr>\n",
       "      <th>4</th>\n",
       "      <td>373-73-7910</td>\n",
       "      <td>Alex</td>\n",
       "      <td>Yangon</td>\n",
       "      <td>Member</td>\n",
       "      <td>Female</td>\n",
       "      <td>Sports and travel</td>\n",
       "      <td>86.31</td>\n",
       "      <td>7.0</td>\n",
       "      <td>30.2085</td>\n",
       "      <td>634.3785</td>\n",
       "      <td>2/8/2019</td>\n",
       "      <td>10:37:00 AM</td>\n",
       "      <td>Ewallet</td>\n",
       "      <td>5.3</td>\n",
       "    </tr>\n",
       "  </tbody>\n",
       "</table>\n",
       "</div>"
      ],
      "text/plain": [
       "    ID_Facture Succursale      Ville Type_Client   Genre  \\\n",
       "0  750-67-8428       Alex        NaN      Member  Female   \n",
       "1  226-31-3081       Giza  Naypyitaw      Normal  Female   \n",
       "2  631-41-3108       Alex     Yangon      Normal  Female   \n",
       "3  123-19-1176       Alex     Yangon      Member  Female   \n",
       "4  373-73-7910       Alex     Yangon      Member  Female   \n",
       "\n",
       "        Categorie_Produit  Prix_Unitaire  Quantite  Taxe_5%     Total  \\\n",
       "0       Health and beauty          74.69       NaN  26.1415  548.9715   \n",
       "1  Electronic accessories          15.28       5.0   3.8200   80.2200   \n",
       "2      Home and lifestyle          46.33       7.0  16.2155  340.5255   \n",
       "3       Health and beauty          58.22       8.0  23.2880  489.0480   \n",
       "4       Sports and travel          86.31       7.0  30.2085  634.3785   \n",
       "\n",
       "        Date        Heure Methode_Paiement  Note_Satisfaction  \n",
       "0   1/5/2019   1:08:00 PM          Ewallet                9.1  \n",
       "1   3/8/2019  10:29:00 AM             Cash                9.6  \n",
       "2   3/3/2019   1:23:00 PM      Credit card                7.4  \n",
       "3  1/27/2019   8:33:00 PM          Ewallet                8.4  \n",
       "4   2/8/2019  10:37:00 AM          Ewallet                5.3  "
      ]
     },
     "execution_count": 51,
     "metadata": {},
     "output_type": "execute_result"
    }
   ],
   "source": [
    "df = df.drop(columns = ['CMV', 'Pourcentage_Marge_Brute', 'Revenu_Brut'])\n",
    "df.head()"
   ]
  },
  {
   "cell_type": "markdown",
   "metadata": {},
   "source": [
    "# remove duplicate values in data frame"
   ]
  },
  {
   "cell_type": "code",
   "execution_count": 52,
   "metadata": {},
   "outputs": [
    {
     "data": {
      "text/plain": [
       "(1000, 14)"
      ]
     },
     "execution_count": 52,
     "metadata": {},
     "output_type": "execute_result"
    }
   ],
   "source": [
    "df.shape"
   ]
  },
  {
   "cell_type": "code",
   "execution_count": 53,
   "metadata": {},
   "outputs": [
    {
     "data": {
      "text/plain": [
       "(1000, 14)"
      ]
     },
     "execution_count": 53,
     "metadata": {},
     "output_type": "execute_result"
    }
   ],
   "source": [
    "df = df.drop_duplicates()\n",
    "df.shape"
   ]
  },
  {
   "cell_type": "markdown",
   "metadata": {},
   "source": [
    "# fréquences de valeurs manquantes"
   ]
  },
  {
   "cell_type": "code",
   "execution_count": 54,
   "metadata": {},
   "outputs": [
    {
     "data": {
      "text/plain": [
       "ID_Facture            0.0\n",
       "Succursale            1.2\n",
       "Ville                 1.3\n",
       "Type_Client           0.0\n",
       "Genre                 0.0\n",
       " Categorie_Produit    0.0\n",
       "Prix_Unitaire         0.6\n",
       "Quantite              0.7\n",
       "Taxe_5%               0.5\n",
       "Total                 0.7\n",
       "Date                  0.0\n",
       "Heure                 0.0\n",
       "Methode_Paiement      0.0\n",
       "Note_Satisfaction     0.0\n",
       "dtype: float64"
      ]
     },
     "execution_count": 54,
     "metadata": {},
     "output_type": "execute_result"
    }
   ],
   "source": [
    "freq = (df.isna().sum() / len(df)) * 100\n",
    "freq"
   ]
  },
  {
   "cell_type": "markdown",
   "metadata": {},
   "source": [
    "# afficher les valeurs null"
   ]
  },
  {
   "cell_type": "code",
   "execution_count": 55,
   "metadata": {},
   "outputs": [
    {
     "data": {
      "text/plain": [
       "<Axes: >"
      ]
     },
     "execution_count": 55,
     "metadata": {},
     "output_type": "execute_result"
    },
    {
     "data": {
      "image/png": "[encoded data removed]",
      "text/plain": [
       "<Figure size 2500x1000 with 2 Axes>"
      ]
     },
     "metadata": {},
     "output_type": "display_data"
    }
   ],
   "source": [
    "import missingno as msno\n",
    "msno.matrix(df)"
   ]
  },
  {
   "cell_type": "code",
   "execution_count": 56,
   "metadata": {},
   "outputs": [
    {
     "data": {
      "text/plain": [
       "<Axes: >"
      ]
     },
     "execution_count": 56,
     "metadata": {},
     "output_type": "execute_result"
    },
    {
     "data": {
      "image/png": "[encoded data removed]",
      "text/plain": [
       "<Figure size 2500x1000 with 3 Axes>"
      ]
     },
     "metadata": {},
     "output_type": "display_data"
    }
   ],
   "source": [
    "\n",
    "msno.bar(df)\n"
   ]
  },
  {
   "cell_type": "markdown",
   "metadata": {},
   "source": [
    "# les types des colonnes "
   ]
  },
  {
   "cell_type": "code",
   "execution_count": 57,
   "metadata": {},
   "outputs": [
    {
     "data": {
      "text/plain": [
       "ID_Facture             object\n",
       "Succursale             object\n",
       "Ville                  object\n",
       "Type_Client            object\n",
       "Genre                  object\n",
       " Categorie_Produit     object\n",
       "Prix_Unitaire         float64\n",
       "Quantite              float64\n",
       "Taxe_5%               float64\n",
       "Total                 float64\n",
       "Date                   object\n",
       "Heure                  object\n",
       "Methode_Paiement       object\n",
       "Note_Satisfaction     float64\n",
       "dtype: object"
      ]
     },
     "execution_count": 57,
     "metadata": {},
     "output_type": "execute_result"
    }
   ],
   "source": [
    "# type de donnnes \n",
    "df.dtypes"
   ]
  },
  {
   "cell_type": "markdown",
   "metadata": {},
   "source": [
    "# \"Remplissage des valeurs manquantes dans les colonnes 'Total', 'Prix_Unitaire', 'Quantite', et 'Taxe_5%' \" "
   ]
  },
  {
   "cell_type": "code",
   "execution_count": 58,
   "metadata": {},
   "outputs": [
    {
     "data": {
      "text/plain": [
       "np.int64(0)"
      ]
     },
     "execution_count": 58,
     "metadata": {},
     "output_type": "execute_result"
    }
   ],
   "source": [
    "# Remplissage des valeurs manquantes dans la colonne 'Total' en fonction des colonnes 'Prix_Unitaire', 'Quantite', et 'Taxe_5%' \n",
    "\n",
    "idx_cond = df['Prix_Unitaire'].notna() & df['Quantite'].notna() & df['Taxe_5%'].notna() & df['Total'].isna()\n",
    "\n",
    "   \n",
    "# On calcule 'Total' avec la formule : (Prix_Unitaire * Quantite) + Taxe_5%\n",
    "df.loc[idx_cond, 'Total'] = (df['Prix_Unitaire'] * df['Quantite']) + df['Taxe_5%']\n",
    "\n",
    "# checker, il y a des valeurs manquantes dans la colonne 'Total'\n",
    "df['Total'].isna().sum()"
   ]
  },
  {
   "cell_type": "code",
   "execution_count": 59,
   "metadata": {},
   "outputs": [
    {
     "data": {
      "text/plain": [
       "np.int64(0)"
      ]
     },
     "execution_count": 59,
     "metadata": {},
     "output_type": "execute_result"
    }
   ],
   "source": [
    "# Remplissage des valeurs manquantes dans la colonne 'Prix_Unitaire' en fonction des colonnes 'Total', 'Quantite', et 'Taxe_5%'\n",
    "\n",
    "idx_cond = df['Total'].notna() & df['Quantite'].notna() & df['Taxe_5%'].notna() & df['Prix_Unitaire'].isna()\n",
    "\n",
    "\n",
    "# On calcule 'Total' avec la formule : (Total - Taxe_5) * Quantite\n",
    "df.loc[idx_cond, 'Prix_Unitaire'] = (df['Total'] - df['Taxe_5%']) / df['Quantite']\n",
    "\n",
    "# checker, il y a des valeurs manquantes dans la colonne 'Prix_Unitaire'\n",
    "df['Prix_Unitaire'].isna().sum()"
   ]
  },
  {
   "cell_type": "code",
   "execution_count": 60,
   "metadata": {},
   "outputs": [
    {
     "data": {
      "text/plain": [
       "np.int64(0)"
      ]
     },
     "execution_count": 60,
     "metadata": {},
     "output_type": "execute_result"
    }
   ],
   "source": [
    "# Remplissage des valeurs manquantes dans la colonne 'Taxe_5%' en fonction des colonnes 'Total', 'Quantite', et 'Prix_Unitaire'\n",
    "\n",
    "idx_cond = df['Total'].notna() & df['Quantite'].notna() & df['Prix_Unitaire'].notna() & df['Taxe_5%'].isna()\n",
    "\n",
    "\n",
    "# On calcule 'Taxe_5%' avec la formule : (Total−(Prix_Unitaire*Quantite))\n",
    "df.loc[idx_cond, 'Taxe_5%'] = (df['Total'] -(df['Prix_Unitaire'] *df['Quantite']))\n",
    "\n",
    "\n",
    "# checker, il y a des valeurs manquantes dans la colonne 'Taxe_5%'\n",
    "df['Taxe_5%'].isna().sum()"
   ]
  },
  {
   "cell_type": "code",
   "execution_count": 61,
   "metadata": {},
   "outputs": [
    {
     "data": {
      "text/plain": [
       "np.int64(0)"
      ]
     },
     "execution_count": 61,
     "metadata": {},
     "output_type": "execute_result"
    }
   ],
   "source": [
    "# Remplissage des valeurs manquantes dans la colonne 'Quantite' en fonction des colonnes 'Prix_Unitaire', 'Total', et 'Taxe_5%' \n",
    "\n",
    "idx_cond = df['Prix_Unitaire'].notna() & df['Total'].notna() & df['Taxe_5%'].notna() & df['Quantite'].isna()\n",
    "\n",
    "   \n",
    "# On calcule 'Quantite' avec la formule : Total - Taxe_5%) / Prix_Unitaire\n",
    "df.loc[idx_cond, 'Quantite'] = (df['Total'] - df['Taxe_5%']) / df['Prix_Unitaire']\n",
    "\n",
    "# checker, il y a des valeurs manquantes dans la colonne 'Quantite'\n",
    "df['Quantite'].isna().sum()"
   ]
  },
  {
   "cell_type": "markdown",
   "metadata": {},
   "source": [
    "# Conversion et formatage des dates en DD/MM/YYYY"
   ]
  },
  {
   "cell_type": "code",
   "execution_count": 62,
   "metadata": {},
   "outputs": [
    {
     "data": {
      "text/plain": [
       "0      05/01/2019\n",
       "1      08/03/2019\n",
       "2      03/03/2019\n",
       "3      27/01/2019\n",
       "4      08/02/2019\n",
       "          ...    \n",
       "995    29/01/2019\n",
       "996    02/03/2019\n",
       "997    09/02/2019\n",
       "998    22/02/2019\n",
       "999    18/02/2019\n",
       "Name: Date, Length: 1000, dtype: object"
      ]
     },
     "execution_count": 62,
     "metadata": {},
     "output_type": "execute_result"
    }
   ],
   "source": [
    "# Convertir la colonne en format datetime\n",
    "df['Date'] = pd.to_datetime(df['Date'], format='%m/%d/%Y')\n",
    "\n",
    "# Reformater la date en format DD/MM/YYYY\n",
    "df['Date'].dt.strftime('%d/%m/%Y')\n"
   ]
  },
  {
   "cell_type": "markdown",
   "metadata": {},
   "source": [
    "# Conversion des heures du format 12 heures (AM/PM) au format 24 heures"
   ]
  },
  {
   "cell_type": "code",
   "execution_count": 63,
   "metadata": {},
   "outputs": [],
   "source": [
    "# Convertir les heures au format datetime\n",
    "df['Heure'] = pd.to_datetime(df['Heure'], format='%I:%M:%S %p')\n",
    "\n",
    "# Reformater en HH:MM:SS sur 24 heures\n",
    "df['Heure'] = df['Heure'].dt.strftime('%H:%M:%S')\n"
   ]
  },
  {
   "cell_type": "code",
   "execution_count": 64,
   "metadata": {},
   "outputs": [
    {
     "data": {
      "text/plain": [
       "0      13:08:00\n",
       "1      10:29:00\n",
       "2      13:23:00\n",
       "3      20:33:00\n",
       "4      10:37:00\n",
       "         ...   \n",
       "995    13:46:00\n",
       "996    17:16:00\n",
       "997    13:22:00\n",
       "998    15:33:00\n",
       "999    13:28:00\n",
       "Name: Heure, Length: 1000, dtype: object"
      ]
     },
     "execution_count": 64,
     "metadata": {},
     "output_type": "execute_result"
    }
   ],
   "source": [
    "df['Heure']"
   ]
  },
  {
   "cell_type": "markdown",
   "metadata": {},
   "source": [
    "# remplacer les valeurs null dans la colonne 'Succursale'"
   ]
  },
  {
   "cell_type": "code",
   "execution_count": 65,
   "metadata": {},
   "outputs": [
    {
     "name": "stdout",
     "output_type": "stream",
     "text": [
      "ville:  [nan 'Naypyitaw' 'Yangon' 'Mandalay']\n",
      "Succursale:  ['Alex' 'Giza' nan 'Cairo']\n"
     ]
    }
   ],
   "source": [
    "print('ville: ',df['Ville'].unique())\n",
    "print('Succursale: ',df['Succursale'].unique())\n"
   ]
  },
  {
   "cell_type": "code",
   "execution_count": 66,
   "metadata": {},
   "outputs": [
    {
     "data": {
      "text/plain": [
       "np.int64(12)"
      ]
     },
     "execution_count": 66,
     "metadata": {},
     "output_type": "execute_result"
    }
   ],
   "source": [
    "# afficher la somme de valeur manquante dans la colonne\n",
    "df['Succursale'].isna().sum()"
   ]
  },
  {
   "cell_type": "code",
   "execution_count": 67,
   "metadata": {},
   "outputs": [
    {
     "data": {
      "text/plain": [
       "np.int64(0)"
      ]
     },
     "execution_count": 67,
     "metadata": {},
     "output_type": "execute_result"
    }
   ],
   "source": [
    "# Ajouter 'Giza' pour les villes 'Naypyitaw'\n",
    "df.loc[(df['Ville'] == 'Naypyitaw') & (df['Succursale'].isna()), 'Succursale'] = 'Giza'\n",
    "\n",
    "# Ajouter 'Cairo' pour les villes 'Mandalay'\n",
    "df.loc[(df['Ville'] == 'Mandalay') & (df['Succursale'].isna()), 'Succursale'] = 'Cairo'\n",
    "\n",
    "# Ajouter 'Alex' pour les villes 'Yangon'\n",
    "df.loc[(df['Ville'] == 'Yangon') & (df['Succursale'].isna()), 'Succursale'] = 'Alex'\n",
    "\n",
    "# Vérifier les valeurs manquantes dans la colonne\n",
    "df['Succursale'].isna().sum()\n"
   ]
  },
  {
   "cell_type": "markdown",
   "metadata": {},
   "source": [
    "# remplacer les valeurs null dans la colonne 'Ville'"
   ]
  },
  {
   "cell_type": "code",
   "execution_count": 68,
   "metadata": {},
   "outputs": [
    {
     "data": {
      "text/plain": [
       "np.int64(13)"
      ]
     },
     "execution_count": 68,
     "metadata": {},
     "output_type": "execute_result"
    }
   ],
   "source": [
    "# afficher la somme de valeur manquante dans la colonne\n",
    "df['Ville'].isna().sum()"
   ]
  },
  {
   "cell_type": "code",
   "execution_count": 69,
   "metadata": {},
   "outputs": [
    {
     "data": {
      "text/plain": [
       "np.int64(0)"
      ]
     },
     "execution_count": 69,
     "metadata": {},
     "output_type": "execute_result"
    }
   ],
   "source": [
    "# Ajouter 'Yangon' pour les Succursale 'Alex'\n",
    "df.loc[(df['Succursale'] == 'Alex') & (df['Ville'].isna()), 'Ville'] = 'Yangon'\n",
    "\n",
    "# Ajouter 'Naypyitaw' pour les Succursale 'Giza'\n",
    "df.loc[(df['Succursale'] == 'Giza') & (df['Ville'].isna()), 'Ville'] = 'Naypyitaw'\n",
    "\n",
    "# Ajouter 'Mandalay' pour les Succursale 'Cairo'\n",
    "df.loc[(df['Succursale'] == 'Cairo') & (df['Ville'].isna()), 'Ville'] = 'Mandalay'\n",
    "\n",
    "# Vérifier les valeurs manquantes dans la colonne\n",
    "df['Succursale'].isna().sum()"
   ]
  },
  {
   "cell_type": "code",
   "execution_count": 70,
   "metadata": {},
   "outputs": [
    {
     "data": {
      "text/plain": [
       "ID_Facture            0\n",
       "Succursale            0\n",
       "Ville                 0\n",
       "Type_Client           0\n",
       "Genre                 0\n",
       " Categorie_Produit    0\n",
       "Prix_Unitaire         0\n",
       "Quantite              0\n",
       "Taxe_5%               0\n",
       "Total                 0\n",
       "Date                  0\n",
       "Heure                 0\n",
       "Methode_Paiement      0\n",
       "Note_Satisfaction     0\n",
       "dtype: int64"
      ]
     },
     "execution_count": 70,
     "metadata": {},
     "output_type": "execute_result"
    }
   ],
   "source": [
    "df.isna().sum()"
   ]
  },
  {
   "cell_type": "code",
   "execution_count": 71,
   "metadata": {},
   "outputs": [
    {
     "data": {
      "text/html": [
       "<div>\n",
       "<style scoped>\n",
       "    .dataframe tbody tr th:only-of-type {\n",
       "        vertical-align: middle;\n",
       "    }\n",
       "\n",
       "    .dataframe tbody tr th {\n",
       "        vertical-align: top;\n",
       "    }\n",
       "\n",
       "    .dataframe thead th {\n",
       "        text-align: right;\n",
       "    }\n",
       "</style>\n",
       "<table border=\"1\" class=\"dataframe\">\n",
       "  <thead>\n",
       "    <tr style=\"text-align: right;\">\n",
       "      <th></th>\n",
       "      <th>ID_Facture</th>\n",
       "      <th>Succursale</th>\n",
       "      <th>Ville</th>\n",
       "      <th>Type_Client</th>\n",
       "      <th>Genre</th>\n",
       "      <th>Categorie_Produit</th>\n",
       "      <th>Prix_Unitaire</th>\n",
       "      <th>Quantite</th>\n",
       "      <th>Taxe_5%</th>\n",
       "      <th>Total</th>\n",
       "      <th>Date</th>\n",
       "      <th>Heure</th>\n",
       "      <th>Methode_Paiement</th>\n",
       "      <th>Note_Satisfaction</th>\n",
       "    </tr>\n",
       "  </thead>\n",
       "  <tbody>\n",
       "    <tr>\n",
       "      <th>0</th>\n",
       "      <td>750-67-8428</td>\n",
       "      <td>Alex</td>\n",
       "      <td>Yangon</td>\n",
       "      <td>Member</td>\n",
       "      <td>Female</td>\n",
       "      <td>Health and beauty</td>\n",
       "      <td>74.69</td>\n",
       "      <td>7.0</td>\n",
       "      <td>26.1415</td>\n",
       "      <td>548.9715</td>\n",
       "      <td>2019-01-05</td>\n",
       "      <td>13:08:00</td>\n",
       "      <td>Ewallet</td>\n",
       "      <td>9.1</td>\n",
       "    </tr>\n",
       "    <tr>\n",
       "      <th>1</th>\n",
       "      <td>226-31-3081</td>\n",
       "      <td>Giza</td>\n",
       "      <td>Naypyitaw</td>\n",
       "      <td>Normal</td>\n",
       "      <td>Female</td>\n",
       "      <td>Electronic accessories</td>\n",
       "      <td>15.28</td>\n",
       "      <td>5.0</td>\n",
       "      <td>3.8200</td>\n",
       "      <td>80.2200</td>\n",
       "      <td>2019-03-08</td>\n",
       "      <td>10:29:00</td>\n",
       "      <td>Cash</td>\n",
       "      <td>9.6</td>\n",
       "    </tr>\n",
       "    <tr>\n",
       "      <th>2</th>\n",
       "      <td>631-41-3108</td>\n",
       "      <td>Alex</td>\n",
       "      <td>Yangon</td>\n",
       "      <td>Normal</td>\n",
       "      <td>Female</td>\n",
       "      <td>Home and lifestyle</td>\n",
       "      <td>46.33</td>\n",
       "      <td>7.0</td>\n",
       "      <td>16.2155</td>\n",
       "      <td>340.5255</td>\n",
       "      <td>2019-03-03</td>\n",
       "      <td>13:23:00</td>\n",
       "      <td>Credit card</td>\n",
       "      <td>7.4</td>\n",
       "    </tr>\n",
       "    <tr>\n",
       "      <th>3</th>\n",
       "      <td>123-19-1176</td>\n",
       "      <td>Alex</td>\n",
       "      <td>Yangon</td>\n",
       "      <td>Member</td>\n",
       "      <td>Female</td>\n",
       "      <td>Health and beauty</td>\n",
       "      <td>58.22</td>\n",
       "      <td>8.0</td>\n",
       "      <td>23.2880</td>\n",
       "      <td>489.0480</td>\n",
       "      <td>2019-01-27</td>\n",
       "      <td>20:33:00</td>\n",
       "      <td>Ewallet</td>\n",
       "      <td>8.4</td>\n",
       "    </tr>\n",
       "    <tr>\n",
       "      <th>4</th>\n",
       "      <td>373-73-7910</td>\n",
       "      <td>Alex</td>\n",
       "      <td>Yangon</td>\n",
       "      <td>Member</td>\n",
       "      <td>Female</td>\n",
       "      <td>Sports and travel</td>\n",
       "      <td>86.31</td>\n",
       "      <td>7.0</td>\n",
       "      <td>30.2085</td>\n",
       "      <td>634.3785</td>\n",
       "      <td>2019-02-08</td>\n",
       "      <td>10:37:00</td>\n",
       "      <td>Ewallet</td>\n",
       "      <td>5.3</td>\n",
       "    </tr>\n",
       "    <tr>\n",
       "      <th>5</th>\n",
       "      <td>699-14-3026</td>\n",
       "      <td>Giza</td>\n",
       "      <td>Naypyitaw</td>\n",
       "      <td>Member</td>\n",
       "      <td>Female</td>\n",
       "      <td>Electronic accessories</td>\n",
       "      <td>85.39</td>\n",
       "      <td>7.0</td>\n",
       "      <td>29.8865</td>\n",
       "      <td>627.6165</td>\n",
       "      <td>2019-03-25</td>\n",
       "      <td>18:30:00</td>\n",
       "      <td>Ewallet</td>\n",
       "      <td>4.1</td>\n",
       "    </tr>\n",
       "    <tr>\n",
       "      <th>6</th>\n",
       "      <td>355-53-5943</td>\n",
       "      <td>Alex</td>\n",
       "      <td>Yangon</td>\n",
       "      <td>Member</td>\n",
       "      <td>Female</td>\n",
       "      <td>Electronic accessories</td>\n",
       "      <td>68.84</td>\n",
       "      <td>6.0</td>\n",
       "      <td>20.6520</td>\n",
       "      <td>433.6920</td>\n",
       "      <td>2019-02-25</td>\n",
       "      <td>14:36:00</td>\n",
       "      <td>Ewallet</td>\n",
       "      <td>5.8</td>\n",
       "    </tr>\n",
       "    <tr>\n",
       "      <th>7</th>\n",
       "      <td>315-22-5665</td>\n",
       "      <td>Giza</td>\n",
       "      <td>Naypyitaw</td>\n",
       "      <td>Member</td>\n",
       "      <td>Female</td>\n",
       "      <td>Home and lifestyle</td>\n",
       "      <td>73.56</td>\n",
       "      <td>10.0</td>\n",
       "      <td>36.7800</td>\n",
       "      <td>772.3800</td>\n",
       "      <td>2019-02-24</td>\n",
       "      <td>11:38:00</td>\n",
       "      <td>Ewallet</td>\n",
       "      <td>8.0</td>\n",
       "    </tr>\n",
       "    <tr>\n",
       "      <th>8</th>\n",
       "      <td>665-32-9167</td>\n",
       "      <td>Alex</td>\n",
       "      <td>Yangon</td>\n",
       "      <td>Member</td>\n",
       "      <td>Female</td>\n",
       "      <td>Health and beauty</td>\n",
       "      <td>36.26</td>\n",
       "      <td>2.0</td>\n",
       "      <td>3.6260</td>\n",
       "      <td>76.1460</td>\n",
       "      <td>2019-01-10</td>\n",
       "      <td>17:15:00</td>\n",
       "      <td>Credit card</td>\n",
       "      <td>7.2</td>\n",
       "    </tr>\n",
       "    <tr>\n",
       "      <th>9</th>\n",
       "      <td>692-92-5582</td>\n",
       "      <td>Cairo</td>\n",
       "      <td>Mandalay</td>\n",
       "      <td>Member</td>\n",
       "      <td>Female</td>\n",
       "      <td>Food and beverages</td>\n",
       "      <td>54.84</td>\n",
       "      <td>3.0</td>\n",
       "      <td>8.2260</td>\n",
       "      <td>172.7460</td>\n",
       "      <td>2019-02-20</td>\n",
       "      <td>13:27:00</td>\n",
       "      <td>Credit card</td>\n",
       "      <td>5.9</td>\n",
       "    </tr>\n",
       "    <tr>\n",
       "      <th>10</th>\n",
       "      <td>351-62-0822</td>\n",
       "      <td>Cairo</td>\n",
       "      <td>Mandalay</td>\n",
       "      <td>Member</td>\n",
       "      <td>Female</td>\n",
       "      <td>Fashion accessories</td>\n",
       "      <td>14.48</td>\n",
       "      <td>4.0</td>\n",
       "      <td>2.8960</td>\n",
       "      <td>60.8160</td>\n",
       "      <td>2019-02-06</td>\n",
       "      <td>18:07:00</td>\n",
       "      <td>Ewallet</td>\n",
       "      <td>4.5</td>\n",
       "    </tr>\n",
       "    <tr>\n",
       "      <th>11</th>\n",
       "      <td>529-56-3974</td>\n",
       "      <td>Cairo</td>\n",
       "      <td>Mandalay</td>\n",
       "      <td>Member</td>\n",
       "      <td>Female</td>\n",
       "      <td>Electronic accessories</td>\n",
       "      <td>25.51</td>\n",
       "      <td>4.0</td>\n",
       "      <td>5.1020</td>\n",
       "      <td>107.1420</td>\n",
       "      <td>2019-03-09</td>\n",
       "      <td>17:03:00</td>\n",
       "      <td>Cash</td>\n",
       "      <td>6.8</td>\n",
       "    </tr>\n",
       "    <tr>\n",
       "      <th>12</th>\n",
       "      <td>365-64-0515</td>\n",
       "      <td>Alex</td>\n",
       "      <td>Yangon</td>\n",
       "      <td>Member</td>\n",
       "      <td>Female</td>\n",
       "      <td>Electronic accessories</td>\n",
       "      <td>46.95</td>\n",
       "      <td>5.0</td>\n",
       "      <td>11.7375</td>\n",
       "      <td>246.4875</td>\n",
       "      <td>2019-02-12</td>\n",
       "      <td>10:25:00</td>\n",
       "      <td>Ewallet</td>\n",
       "      <td>7.1</td>\n",
       "    </tr>\n",
       "    <tr>\n",
       "      <th>13</th>\n",
       "      <td>252-56-2699</td>\n",
       "      <td>Alex</td>\n",
       "      <td>Yangon</td>\n",
       "      <td>Member</td>\n",
       "      <td>Female</td>\n",
       "      <td>Food and beverages</td>\n",
       "      <td>43.19</td>\n",
       "      <td>10.0</td>\n",
       "      <td>21.5950</td>\n",
       "      <td>453.4950</td>\n",
       "      <td>2019-02-07</td>\n",
       "      <td>16:48:00</td>\n",
       "      <td>Ewallet</td>\n",
       "      <td>8.2</td>\n",
       "    </tr>\n",
       "    <tr>\n",
       "      <th>14</th>\n",
       "      <td>829-34-3910</td>\n",
       "      <td>Alex</td>\n",
       "      <td>Yangon</td>\n",
       "      <td>Member</td>\n",
       "      <td>Female</td>\n",
       "      <td>Health and beauty</td>\n",
       "      <td>71.38</td>\n",
       "      <td>10.0</td>\n",
       "      <td>35.6900</td>\n",
       "      <td>749.4900</td>\n",
       "      <td>2019-03-29</td>\n",
       "      <td>19:21:00</td>\n",
       "      <td>Cash</td>\n",
       "      <td>5.7</td>\n",
       "    </tr>\n",
       "    <tr>\n",
       "      <th>15</th>\n",
       "      <td>299-46-1805</td>\n",
       "      <td>Cairo</td>\n",
       "      <td>Mandalay</td>\n",
       "      <td>Member</td>\n",
       "      <td>Female</td>\n",
       "      <td>Sports and travel</td>\n",
       "      <td>93.72</td>\n",
       "      <td>6.0</td>\n",
       "      <td>28.1160</td>\n",
       "      <td>590.4360</td>\n",
       "      <td>2019-01-15</td>\n",
       "      <td>16:19:00</td>\n",
       "      <td>Cash</td>\n",
       "      <td>4.5</td>\n",
       "    </tr>\n",
       "    <tr>\n",
       "      <th>16</th>\n",
       "      <td>656-95-9349</td>\n",
       "      <td>Alex</td>\n",
       "      <td>Yangon</td>\n",
       "      <td>Member</td>\n",
       "      <td>Female</td>\n",
       "      <td>Health and beauty</td>\n",
       "      <td>68.93</td>\n",
       "      <td>7.0</td>\n",
       "      <td>24.1255</td>\n",
       "      <td>506.6355</td>\n",
       "      <td>2019-03-11</td>\n",
       "      <td>11:03:00</td>\n",
       "      <td>Credit card</td>\n",
       "      <td>4.6</td>\n",
       "    </tr>\n",
       "    <tr>\n",
       "      <th>17</th>\n",
       "      <td>765-26-6951</td>\n",
       "      <td>Alex</td>\n",
       "      <td>Yangon</td>\n",
       "      <td>Member</td>\n",
       "      <td>Female</td>\n",
       "      <td>Sports and travel</td>\n",
       "      <td>72.61</td>\n",
       "      <td>6.0</td>\n",
       "      <td>21.7830</td>\n",
       "      <td>457.4430</td>\n",
       "      <td>2019-01-01</td>\n",
       "      <td>10:39:00</td>\n",
       "      <td>Credit card</td>\n",
       "      <td>6.9</td>\n",
       "    </tr>\n",
       "    <tr>\n",
       "      <th>18</th>\n",
       "      <td>329-62-1586</td>\n",
       "      <td>Alex</td>\n",
       "      <td>Yangon</td>\n",
       "      <td>Member</td>\n",
       "      <td>Female</td>\n",
       "      <td>Food and beverages</td>\n",
       "      <td>54.67</td>\n",
       "      <td>3.0</td>\n",
       "      <td>8.2005</td>\n",
       "      <td>172.2105</td>\n",
       "      <td>2019-01-21</td>\n",
       "      <td>18:00:00</td>\n",
       "      <td>Credit card</td>\n",
       "      <td>8.6</td>\n",
       "    </tr>\n",
       "    <tr>\n",
       "      <th>19</th>\n",
       "      <td>319-50-3348</td>\n",
       "      <td>Cairo</td>\n",
       "      <td>Mandalay</td>\n",
       "      <td>Member</td>\n",
       "      <td>Female</td>\n",
       "      <td>Home and lifestyle</td>\n",
       "      <td>40.30</td>\n",
       "      <td>2.0</td>\n",
       "      <td>4.0300</td>\n",
       "      <td>84.6300</td>\n",
       "      <td>2019-03-11</td>\n",
       "      <td>15:30:00</td>\n",
       "      <td>Ewallet</td>\n",
       "      <td>4.4</td>\n",
       "    </tr>\n",
       "  </tbody>\n",
       "</table>\n",
       "</div>"
      ],
      "text/plain": [
       "     ID_Facture Succursale      Ville Type_Client   Genre  \\\n",
       "0   750-67-8428       Alex     Yangon      Member  Female   \n",
       "1   226-31-3081       Giza  Naypyitaw      Normal  Female   \n",
       "2   631-41-3108       Alex     Yangon      Normal  Female   \n",
       "3   123-19-1176       Alex     Yangon      Member  Female   \n",
       "4   373-73-7910       Alex     Yangon      Member  Female   \n",
       "5   699-14-3026       Giza  Naypyitaw      Member  Female   \n",
       "6   355-53-5943       Alex     Yangon      Member  Female   \n",
       "7   315-22-5665       Giza  Naypyitaw      Member  Female   \n",
       "8   665-32-9167       Alex     Yangon      Member  Female   \n",
       "9   692-92-5582      Cairo   Mandalay      Member  Female   \n",
       "10  351-62-0822      Cairo   Mandalay      Member  Female   \n",
       "11  529-56-3974      Cairo   Mandalay      Member  Female   \n",
       "12  365-64-0515       Alex     Yangon      Member  Female   \n",
       "13  252-56-2699       Alex     Yangon      Member  Female   \n",
       "14  829-34-3910       Alex     Yangon      Member  Female   \n",
       "15  299-46-1805      Cairo   Mandalay      Member  Female   \n",
       "16  656-95-9349       Alex     Yangon      Member  Female   \n",
       "17  765-26-6951       Alex     Yangon      Member  Female   \n",
       "18  329-62-1586       Alex     Yangon      Member  Female   \n",
       "19  319-50-3348      Cairo   Mandalay      Member  Female   \n",
       "\n",
       "         Categorie_Produit  Prix_Unitaire  Quantite  Taxe_5%     Total  \\\n",
       "0        Health and beauty          74.69       7.0  26.1415  548.9715   \n",
       "1   Electronic accessories          15.28       5.0   3.8200   80.2200   \n",
       "2       Home and lifestyle          46.33       7.0  16.2155  340.5255   \n",
       "3        Health and beauty          58.22       8.0  23.2880  489.0480   \n",
       "4        Sports and travel          86.31       7.0  30.2085  634.3785   \n",
       "5   Electronic accessories          85.39       7.0  29.8865  627.6165   \n",
       "6   Electronic accessories          68.84       6.0  20.6520  433.6920   \n",
       "7       Home and lifestyle          73.56      10.0  36.7800  772.3800   \n",
       "8        Health and beauty          36.26       2.0   3.6260   76.1460   \n",
       "9       Food and beverages          54.84       3.0   8.2260  172.7460   \n",
       "10     Fashion accessories          14.48       4.0   2.8960   60.8160   \n",
       "11  Electronic accessories          25.51       4.0   5.1020  107.1420   \n",
       "12  Electronic accessories          46.95       5.0  11.7375  246.4875   \n",
       "13      Food and beverages          43.19      10.0  21.5950  453.4950   \n",
       "14       Health and beauty          71.38      10.0  35.6900  749.4900   \n",
       "15       Sports and travel          93.72       6.0  28.1160  590.4360   \n",
       "16       Health and beauty          68.93       7.0  24.1255  506.6355   \n",
       "17       Sports and travel          72.61       6.0  21.7830  457.4430   \n",
       "18      Food and beverages          54.67       3.0   8.2005  172.2105   \n",
       "19      Home and lifestyle          40.30       2.0   4.0300   84.6300   \n",
       "\n",
       "         Date     Heure Methode_Paiement  Note_Satisfaction  \n",
       "0  2019-01-05  13:08:00          Ewallet                9.1  \n",
       "1  2019-03-08  10:29:00             Cash                9.6  \n",
       "2  2019-03-03  13:23:00      Credit card                7.4  \n",
       "3  2019-01-27  20:33:00          Ewallet                8.4  \n",
       "4  2019-02-08  10:37:00          Ewallet                5.3  \n",
       "5  2019-03-25  18:30:00          Ewallet                4.1  \n",
       "6  2019-02-25  14:36:00          Ewallet                5.8  \n",
       "7  2019-02-24  11:38:00          Ewallet                8.0  \n",
       "8  2019-01-10  17:15:00      Credit card                7.2  \n",
       "9  2019-02-20  13:27:00      Credit card                5.9  \n",
       "10 2019-02-06  18:07:00          Ewallet                4.5  \n",
       "11 2019-03-09  17:03:00             Cash                6.8  \n",
       "12 2019-02-12  10:25:00          Ewallet                7.1  \n",
       "13 2019-02-07  16:48:00          Ewallet                8.2  \n",
       "14 2019-03-29  19:21:00             Cash                5.7  \n",
       "15 2019-01-15  16:19:00             Cash                4.5  \n",
       "16 2019-03-11  11:03:00      Credit card                4.6  \n",
       "17 2019-01-01  10:39:00      Credit card                6.9  \n",
       "18 2019-01-21  18:00:00      Credit card                8.6  \n",
       "19 2019-03-11  15:30:00          Ewallet                4.4  "
      ]
     },
     "execution_count": 71,
     "metadata": {},
     "output_type": "execute_result"
    }
   ],
   "source": [
    "df.head(20)"
   ]
  },
  {
   "cell_type": "markdown",
   "metadata": {},
   "source": [
    "# Sauvegarde dans un fichier CSV :"
   ]
  },
  {
   "cell_type": "code",
   "execution_count": 72,
   "metadata": {},
   "outputs": [],
   "source": [
    "df.to_csv(\"C:/Users/anass/Desktop/Super_Market_Analysis/SuperMarketAnalysis_cleaning.csv\", index=False)"
   ]
  }
 ],
 "metadata": {
  "kernelspec": {
   "display_name": "base",
   "language": "python",
   "name": "python3"
  },
  "language_info": {
   "codemirror_mode": {
    "name": "ipython",
    "version": 3
   },
   "file_extension": ".py",
   "mimetype": "text/x-python",
   "name": "python",
   "nbconvert_exporter": "python",
   "pygments_lexer": "ipython3",
   "version": "3.12.7"
  }
 },
 "nbformat": 4,
 "nbformat_minor": 2
}
